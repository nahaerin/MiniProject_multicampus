{
  "nbformat": 4,
  "nbformat_minor": 0,
  "metadata": {
    "colab": {
      "name": "Data_Crawling.ipynb",
      "provenance": [],
      "mount_file_id": "1QEdOoVailvbaWdACbMdpMu-dfQ3t5fYW",
      "authorship_tag": "ABX9TyNHuVE8AxiJxBibPhMmuhlX",
      "include_colab_link": true
    },
    "kernelspec": {
      "name": "python3",
      "display_name": "Python 3"
    },
    "language_info": {
      "name": "python"
    }
  },
  "cells": [
    {
      "cell_type": "markdown",
      "metadata": {
        "id": "view-in-github",
        "colab_type": "text"
      },
      "source": [
        "<a href=\"https://colab.research.google.com/github/nahaerin/Project_stock/blob/main/Data_Crawling.ipynb\" target=\"_parent\"><img src=\"https://colab.research.google.com/assets/colab-badge.svg\" alt=\"Open In Colab\"/></a>"
      ]
    },
    {
      "cell_type": "code",
      "metadata": {
        "id": "b6SwF6NKCdJH"
      },
      "source": [
        "import re                     \n",
        "import requests               \n",
        "from bs4 import BeautifulSoup \n",
        "import pandas as pd "
      ],
      "execution_count": null,
      "outputs": []
    },
    {
      "cell_type": "code",
      "metadata": {
        "colab": {
          "base_uri": "https://localhost:8080/",
          "height": 195
        },
        "id": "h9e4Z7qG3rjt",
        "outputId": "36c375ae-4633-411e-d2fa-d351ab18a3e1"
      },
      "source": [
        "##### 코스피 200 종목 코드 가져오는 크롤링 코드\n",
        "res = {'code' : [], 'name' : []}    # 데이터 저장하려고 만든 것\n",
        "\n",
        "for pages in range(1,21):   # 총 20페이지였음\n",
        "    url = f\"https://finance.naver.com/sise/entryJongmok.nhn?&page={pages}\"\n",
        "    req = requests.get(url, headers={'User-agent':'Mozilla/5.0'})\n",
        "    html = BeautifulSoup(req.text, 'lxml')\n",
        "    items = html.find_all('td', {'class':'ctg'})            # html -> <td class=\"ctg\"><a href=\"/item/main.nhn?code=005930\" target=\"_parent\">삼성전자</a></td>\n",
        "\n",
        "    for item in items:\n",
        "        txt = item.a.get('href')                     # href를 가져오게 되면 \"/item/main.nhn?code=005930\"에서 뒤에 종목코드만 빼오면 됨.   \n",
        "        cc = re.search('[\\d]+', txt)                 # 정규표현식 사용. [\\d] 숫자표현, + : 반복\n",
        "        \n",
        "        res['code'].insert(0, cc.group())            # 종목코드 저장\n",
        "        res['name'].insert(0, item.text)             # 종목명 저장\n",
        "\n",
        "kospi200 = pd.DataFrame(data=res)     # 데이터프레임 형식으로 저장\n",
        "kospi200.head()"
      ],
      "execution_count": 172,
      "outputs": [
        {
          "output_type": "execute_result",
          "data": {
            "text/html": [
              "<div>\n",
              "<style scoped>\n",
              "    .dataframe tbody tr th:only-of-type {\n",
              "        vertical-align: middle;\n",
              "    }\n",
              "\n",
              "    .dataframe tbody tr th {\n",
              "        vertical-align: top;\n",
              "    }\n",
              "\n",
              "    .dataframe thead th {\n",
              "        text-align: right;\n",
              "    }\n",
              "</style>\n",
              "<table border=\"1\" class=\"dataframe\">\n",
              "  <thead>\n",
              "    <tr style=\"text-align: right;\">\n",
              "      <th></th>\n",
              "      <th>code</th>\n",
              "      <th>name</th>\n",
              "    </tr>\n",
              "  </thead>\n",
              "  <tbody>\n",
              "    <tr>\n",
              "      <th>0</th>\n",
              "      <td>009410</td>\n",
              "      <td>태영건설</td>\n",
              "    </tr>\n",
              "    <tr>\n",
              "      <th>1</th>\n",
              "      <td>145990</td>\n",
              "      <td>삼양사</td>\n",
              "    </tr>\n",
              "    <tr>\n",
              "      <th>2</th>\n",
              "      <td>005180</td>\n",
              "      <td>빙그레</td>\n",
              "    </tr>\n",
              "    <tr>\n",
              "      <th>3</th>\n",
              "      <td>005610</td>\n",
              "      <td>SPC삼립</td>\n",
              "    </tr>\n",
              "    <tr>\n",
              "      <th>4</th>\n",
              "      <td>001060</td>\n",
              "      <td>JW중외제약</td>\n",
              "    </tr>\n",
              "  </tbody>\n",
              "</table>\n",
              "</div>"
            ],
            "text/plain": [
              "     code    name\n",
              "0  009410    태영건설\n",
              "1  145990     삼양사\n",
              "2  005180     빙그레\n",
              "3  005610   SPC삼립\n",
              "4  001060  JW중외제약"
            ]
          },
          "metadata": {
            "tags": []
          },
          "execution_count": 172
        }
      ]
    },
    {
      "cell_type": "code",
      "metadata": {
        "id": "LCe7NLYPBXeU"
      },
      "source": [
        "# csv 파일로 저장\n",
        "kospi200.to_csv('/content/drive/MyDrive/Multicampus/Python/Project/data/kospi200_code.csv', index=False)"
      ],
      "execution_count": 171,
      "outputs": []
    },
    {
      "cell_type": "code",
      "metadata": {
        "id": "TaRlcGlQvsfE"
      },
      "source": [
        "##### 주식 종목 코드 입력하면 일별시세 데이터 가져오는 크롤링 코드\n",
        "def stock_crawling(code, page_num):\n",
        "    \n",
        "    res = {'index': [], 'data': []}         # 데이터 저장하려고 만든 것\n",
        "\n",
        "    for pages in range(page_num):\n",
        "        url = f'http://finance.naver.com/item/sise_day.nhn?code={code}&page={pages}'   # 가져올 웹페이지 주소\n",
        "        req = requests.get(url, headers={'User-agent':'Mozilla/5.0'})                  # response 해주기\n",
        "        html = BeautifulSoup(req.text, 'lxml')                                         # html 가져오기\n",
        "        items = html.find_all(\"tr\", {\"onmouseover\":\"mouseOver(this)\"})                # 데이터 있는 부분 \n",
        "\n",
        "        for item in items:\n",
        "            tdList = item.find_all('td')\n",
        "            date = tdList[0].text.strip()                               # 날짜\n",
        "            closePrice = int(tdList[1].text.strip().replace(',', ''))   # 종가\n",
        "            diffPrice = int(tdList[2].text.strip().replace(',', ''))    # 전일비\n",
        "            openPrice = int(tdList[3].text.strip().replace(',', ''))    # 시가\n",
        "            highPrice = int(tdList[4].text.strip().replace(',', ''))    # 고가\n",
        "            lowPrice = int(tdList[5].text.strip().replace(',', ''))     # 저가\n",
        "            volume = int(tdList[6].text.strip().replace(',', ''))       # 거래량\n",
        "            \n",
        "            res['index'].insert(0, date)                                                 # 인덱스를 날짜로\n",
        "            res['data'].insert(0, [highPrice, lowPrice, openPrice, closePrice, volume])  # 고가, 저가, 시가, 종가, 거래량만 데이터로 저장\n",
        "\n",
        "    return pd.DataFrame(data=res['data'], index = res['index'], columns=[\"고가\",\"저가\",\"시가\",\"종가\",\"거래량\"])   # 데이터프레임 형식으로 반환"
      ],
      "execution_count": 117,
      "outputs": []
    },
    {
      "cell_type": "code",
      "metadata": {
        "id": "xXzPG3zNBkkQ"
      },
      "source": [
        "# kospi200.code 별로 주식 데이터 가져온거 아래로 붙이기..? "
      ],
      "execution_count": 174,
      "outputs": []
    },
    {
      "cell_type": "code",
      "metadata": {
        "id": "iV6nDTR2C2Sv"
      },
      "source": [
        ""
      ],
      "execution_count": null,
      "outputs": []
    }
  ]
}